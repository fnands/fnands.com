{
 "cells": [
  {
   "cell_type": "markdown",
   "metadata": {},
   "source": [
    "---\n",
    "layout: post\n",
    "title: Speeding up CRC-32 calculations in Mojo \n",
    "categories: [mojo]\n",
    "date: \"2024-10-05\"\n",
    "author: \"Ferdinand Schenck\"\n",
    "draft: false\n",
    "description: Or how I made CRC-32 calculations 18 times faster than Python, and 3 times slower than Python. \n",
    "---"
   ]
  },
  {
   "cell_type": "markdown",
   "metadata": {},
   "source": [
    "In a [previous post](https://fnands.com/blog/2024/mojo-png-parsing/) on parsing PNG images in I very briefly mentioned cyclic redundancy checks, and posted a rather cryptic looking function which I claimed was a bit inefficient. \n",
    "\n",
    "In this post I want to follow up on that a bit and see how we can speed up these calculations.    \n",
    "\n",
    "For reference, this post was done with Mojo 24.5, so a few language details have changed since my last post (e.g. `math.bit` got moved to the top-level `bit` and a few of it's functions have been renamed). \n",
    "\n",
    "I actually wrote most of this post in June with Mojo 24.4, but ran into a bit of an [issue](https://github.com/modularml/mojo/issues/3065) which has now been resolved. It even resulted in a [new unit test](https://github.com/modularml/mojo/commit/4a5c21fccb2bfde1d8408c991856de6a098e504a) for Mojo, so thanks to [Laszlo Kindrat](https://github.com/laszlokindrat) for fixing the issue, and for [soraros](https://github.com/soraros) and [martinvuyk](https://github.com/martinvuyk) for helping figure out what the actual issue was. \n",
    "\n",
    "\n",
    "## A bit of context\n",
    "But first, let's go through a bit of background so we know what we're dealing with. \n",
    "\n",
    "### Cyclic redundancy checks\n",
    "\n",
    "CRCs are error detecting codes that are often used to detect corruption of data in digital files, an example of which is PNG files. In the case of PNGs for example the CRC-32 is calculated for the data of each chunk and appended to the end of the chunk, so that the person reading the file can verify whether the data they read was the same as the data that was written.  \n",
    "\n",
    "A CRC check technically does \"long division in the ring of polynomials of binary coefficients ($\\Bbb{F}_2[x]$)\" 😳.   \n",
    "\n",
    "It's not as complicated as it sounds. I found the [Wikipedia article on Polynomial long division](https://en.wikipedia.org/wiki/Polynomial_long_division) to be helpful, and if you want an in depth explanation then\n",
    "[this post](https://github.com/komrad36/CRC) by [Kareem Omar](https://github.com/komrad36) does an excellent job of explaining both the concept and implementation considerations. I won't go deep into the explanations, so I recommend you read at least the first part of Kareem's post for more background. I pretty much use his post as a guide. \n",
    "\n",
    "Did you read that post? Then welcome back, and well continue from there. \n",
    "\n",
    "But tl;dr: \n",
    "XOR is equivalent to polynomial long division (over a finite field) for binary numbers, and XOR is a very efficient operation to calculate. \n",
    "Essentially what a CRC check does in practice is to run through a sequence of bytes, and iteratively perform a lot of XORs and bit-shifts. By iteratively going through each bit, one can come up with a value that will (nearly certainly) change if data is corrupted somehow. \n",
    "\n",
    "## The original \n",
    "\n",
    "The CRC-32 check from my previous post looked something like this: "
   ]
  },
  {
   "cell_type": "code",
   "execution_count": 1,
   "metadata": {},
   "outputs": [],
   "source": [
    "from bit import bit_reverse\n",
    "\n",
    "fn CRC32(data: List[UInt8], dummy_table: List[UInt32]) -> UInt32:\n",
    "    var crc32: UInt32 = 0xffffffff\n",
    "    for byte in data:\n",
    "        crc32 = (bit_reverse(byte[]).cast[DType.uint32]() << 24) ^ crc32\n",
    "        for _ in range(8):\n",
    "            \n",
    "            if crc32 & 0x80000000 != 0:\n",
    "                crc32 = (crc32 << 1) ^ 0x04c11db7\n",
    "            else:\n",
    "                crc32 = crc32 << 1\n",
    "                \n",
    "    return bit_reverse(crc32^0xffffffff)"
   ]
  },
  {
   "cell_type": "markdown",
   "metadata": {},
   "source": [
    "I'll step through this in a moment, but the first thing you might notice here is that I am reversing a lot of bits here. The table argument is a bit of future proofing, which we won't need for now, but will become apparent soon. Just ignore it for now. \n",
    "\n",
    "\n",
    "This is because when I was implementing this function (based off a C example), I implemented a little-endian version of the algorithm, while PNGs are encoded as big-endian. It's not a huge deal, but it does mean that I am constantly reversing bytes, and then reversing the output again.\n",
    "\n",
    "## The correct bit order\n",
    "\n",
    "\n",
    "We can make this better by implementing the big-endian version:"
   ]
  },
  {
   "cell_type": "code",
   "execution_count": 2,
   "metadata": {},
   "outputs": [],
   "source": [
    "fn CRC32_inv(data: List[UInt8], dummy_table: List[UInt32]) -> UInt32:\n",
    "    \"\"\"Big endian CRC-32 check using 0xedb88320 as polynomial.\"\"\"\n",
    "\n",
    "    # Initialize crc32 as all 1s\n",
    "    var crc32: UInt32 = 0xffffffff\n",
    "\n",
    "    # Step though all bytes in bytestream\n",
    "    for byte in data:\n",
    "\n",
    "        # XOR new byte with crc32 \n",
    "        # We need to cast it to a UInt32 first as Mojo doesn't do implicit casts\n",
    "        crc32 = (byte[].cast[DType.uint32]() ) ^ crc32\n",
    "\n",
    "        # Step though crc32 8 times\n",
    "        for _ in range(8):\n",
    "            \n",
    "            # If leading bit is 1, bitshift by 1 and XOR with the generator polynomial\n",
    "            # otherwise just shift by one \n",
    "            if crc32 & 1 != 0:\n",
    "                crc32 = (crc32 >> 1) ^ 0xedb88320\n",
    "            else:\n",
    "                crc32 = crc32 >> 1\n",
    "\n",
    "    # Invert upon return\n",
    "    return crc32^0xffffffff"
   ]
  },
  {
   "cell_type": "markdown",
   "metadata": {},
   "source": [
    " This is very similar, and just entails that we use a the reverse of the polygon we did before (if you bit reverse `0x04c11db7` you get `0xedb88320`). This also saves us one 24-bit bit-shift, as we are now working on the bottom 8 bits of the `UInt32` instead of the top 8. \n",
    "\n",
    " Just to verify that these implementations are equivalent, let's do a quick test: "
   ]
  },
  {
   "cell_type": "code",
   "execution_count": 3,
   "metadata": {},
   "outputs": [
    {
     "name": "stdout",
     "output_type": "stream",
     "text": [
      "0x382aa34e\n",
      "0x382aa34e\n"
     ]
    }
   ],
   "source": [
    "var example_list = List[UInt8](5, 78, 138, 1, 54, 172, 104, 99, 54, 167, 94, 56, 22, 184, 204, 90, 201,\n",
    "                                           5, 78, 138, 1, 54, 172, 104, 99, 54, 167, 94, 56, 22, 184, 204, 90, 201,\n",
    "                                           5, 78, 138, 1, 54, 172, 104, 99, 54, 167, 94, 56, 22, 184, 204, 90, 201,\n",
    "                                           5, 78, 138, 1, 54, 172, 104, 99, 54, 167, 94, 56, 22, 184, 204, 90, 201, \n",
    "                                           5, 78, 138, 1, 54, 172, 104, 99, 54, 167, 94, 56, 22, 184, 204, 90, 201,\n",
    "                                           5, 78, 138, 1, 54, 172, 104, 99, 54, 167, 94, 56, 22, 184, 204, 90, 201,\n",
    "                                           5, 78, 138, 1, 54, 172, 104, 99, 54, 167, 94, 56, 22, 184, 204, 90, 201,\n",
    "                                           5, 78, 138, 1, 54, 172, 104, 99, 54, 167, 94, 56, 22, 184, 204, 90, 201, 42)\n",
    "\n",
    "print(hex(CRC32(example_list, List[UInt32](1))))\n",
    "print(hex(CRC32_inv(example_list, List[UInt32](1))))                                           "
   ]
  },
  {
   "cell_type": "markdown",
   "metadata": {},
   "source": [
    "And there we go, a more elegant version of the CRC-32 check I implemented last time.  \n",
    "\n",
    "As the theme of today's post is trying to speed things up, let's do a little bit of benchmarking to see if this change has saved us any time. As we are doing one fewer bit reverse and bit shift per byte, as well as a final reverse, we should see a bit of a performance uplift. \n",
    "\n",
    "\n",
    "## A bit of benchmarking:\n",
    "\n",
    "\n",
    "So let's define a benchmarking function. This function will take two version of the CRC32 function and benchmark their runtimes. \n",
    "\n",
    "We have to a little bit of work first. The functions we test need to return `None`, so we need to wrap our functions in functions with no return value. \n",
    "Note the `benchmark.keep(a)` calls: the compiler will realize that `a` is never used and will compile this away unless you instruct it to keep them: "
   ]
  },
  {
   "cell_type": "code",
   "execution_count": 4,
   "metadata": {},
   "outputs": [],
   "source": [
    "import benchmark\n",
    "from testing import assert_equal\n",
    "\n",
    "alias data_table_func = fn(data: List[UInt8], table: List[UInt32]) -> UInt32\n",
    "\n",
    "\n",
    "fn wrap_func[testing_function: data_table_func, data: List[UInt8], table: List[UInt32] ]():\n",
    "    var a =  testing_function(data = data, table = table)\n",
    "    benchmark.keep(a)\n",
    "\n",
    "\n",
    "fn bench[function_1: data_table_func, function_2: data_table_func,\n",
    "         test_list: List[UInt8], test_table: List[UInt32]](quiet: Bool = False) raises -> Tuple[Float64, Float64, Float64]:\n",
    "\n",
    "\n",
    "    var CRC32_1 = function_1(test_list, test_table) \n",
    "\n",
    "    alias function_1_wrapped = wrap_func[function_1]\n",
    "    var report_1 = benchmark.run[function_1_wrapped[test_list, test_table]](max_runtime_secs=1.0\n",
    "    ).mean(benchmark.Unit.ms)\n",
    "    \n",
    "\n",
    "    var CRC32_2 = function_2(test_list, test_table) \n",
    "    \n",
    "    assert_equal(CRC32_1, CRC32_2)\n",
    "\n",
    "    alias function_2_wrapped = wrap_func[function_2]\n",
    "    var report_2 = benchmark.run[function_2_wrapped[test_list, test_table]](max_runtime_secs=1.0\n",
    "    ).mean(benchmark.Unit.ms)\n",
    "\n",
    "    var speedup = report_1/report_2\n",
    "\n",
    "    if not quiet:\n",
    "        print(\"Function 1 runtime (ms): \\t\", report_1)\n",
    "        print(\"Function 2 runtime (ms): \\t\", report_2)\n",
    "        print(\"Speedup factor: \\t\\t\", (speedup))\n",
    "\n",
    "\n",
    "    return report_1, report_2, speedup"
   ]
  },
  {
   "cell_type": "markdown",
   "metadata": {},
   "source": [
    "Next we need a test case. I'm not sure if there is a nicer way to fill a List with random values yet, but for now we can list create an `UnsafePointer`, alloc some space, and fill it with random numbers using `rand`. \n",
    "Then we can init a `List` using that data: "
   ]
  },
  {
   "cell_type": "code",
   "execution_count": 5,
   "metadata": {},
   "outputs": [],
   "source": [
    "from random import rand\n",
    "\n",
    "alias fill_size = 2**20\n",
    "alias g = UnsafePointer[UInt8].alloc(fill_size)\n",
    "rand[DType.uint8](g, fill_size)\n",
    "alias rand_list = List[UInt8](unsafe_pointer = g, size = fill_size, capacity = fill_size)\n",
    "\n",
    "alias dummy_table = List[UInt32](1)"
   ]
  },
  {
   "cell_type": "markdown",
   "metadata": {},
   "source": [
    "And finally we are ready to benchmark: "
   ]
  },
  {
   "cell_type": "code",
   "execution_count": 6,
   "metadata": {},
   "outputs": [
    {
     "name": "stdout",
     "output_type": "stream",
     "text": [
      "Function 1 runtime (ms): \t 9.437418430000001\n",
      "Function 2 runtime (ms): \t 6.8247150400000001\n",
      "Speedup factor: \t\t 1.3828296675666039\n"
     ]
    }
   ],
   "source": [
    "original_time, improved_time, speedup = bench[CRC32, CRC32_inv, rand_list, dummy_table]()"
   ]
  },
  {
   "cell_type": "markdown",
   "metadata": {},
   "source": [
    "Nice! So just by avoiding a few bit reversals and bit shifts we get about a 30% uplift in performance depending on the run. \n",
    "\n",
    "**Note:** I am doing this in a Jupyter notebook, so there is a bit of variance from run to run. \n",
    "\n",
    "\n",
    "## A quick Python speed-check\n",
    "\n",
    "While we're checking performance, let's see how this implementation would perform in Python: "
   ]
  },
  {
   "cell_type": "code",
   "execution_count": 7,
   "metadata": {},
   "outputs": [],
   "source": [
    "%%python\n",
    "\n",
    "def py_crc32(data: bytearray) -> int: \n",
    "    crc32 = 0xffffffff\n",
    "    \n",
    "    for byte in data:\n",
    "        crc32 = byte ^ crc32\n",
    "\n",
    "        for i in range(8):\n",
    "            if crc32 & 1 != 0:\n",
    "                crc32 = (crc32 >> 1) ^ 0xedb88320\n",
    "            else:\n",
    "                crc32 = crc32 >> 1\n",
    "\n",
    "    return crc32^0xffffffff"
   ]
  },
  {
   "cell_type": "markdown",
   "metadata": {},
   "source": [
    "And let's just do a sanity check to assure ourselves that we produce the same CRC-32 value given the same bytestream: "
   ]
  },
  {
   "cell_type": "code",
   "execution_count": 8,
   "metadata": {},
   "outputs": [
    {
     "name": "stdout",
     "output_type": "stream",
     "text": [
      "0x382aa34e\n"
     ]
    }
   ],
   "source": [
    "%%python\n",
    "\n",
    "py_example_list = [5, 78, 138, 1, 54, 172, 104, 99, 54, 167, 94, 56, 22, 184, 204, 90, 201,\n",
    "    5, 78, 138, 1, 54, 172, 104, 99, 54, 167, 94, 56, 22, 184, 204, 90, 201,\n",
    "    5, 78, 138, 1, 54, 172, 104, 99, 54, 167, 94, 56, 22, 184, 204, 90, 201,\n",
    "    5, 78, 138, 1, 54, 172, 104, 99, 54, 167, 94, 56, 22, 184, 204, 90, 201, \n",
    "    5, 78, 138, 1, 54, 172, 104, 99, 54, 167, 94, 56, 22, 184, 204, 90, 201,\n",
    "    5, 78, 138, 1, 54, 172, 104, 99, 54, 167, 94, 56, 22, 184, 204, 90, 201,\n",
    "    5, 78, 138, 1, 54, 172, 104, 99, 54, 167, 94, 56, 22, 184, 204, 90, 201,\n",
    "    5, 78, 138, 1, 54, 172, 104, 99, 54, 167, 94, 56, 22, 184, 204, 90, 201, 42]\n",
    "    \n",
    "py_example_bytearray = bytearray(py_example_list)\n",
    "\n",
    "print(hex(py_crc32(py_example_bytearray)))"
   ]
  },
  {
   "cell_type": "code",
   "execution_count": 9,
   "metadata": {},
   "outputs": [
    {
     "name": "stdout",
     "output_type": "stream",
     "text": [
      "Naive Python runtime (ms): 123.02583360986318\n"
     ]
    }
   ],
   "source": [
    "%%python\n",
    "from timeit import timeit\n",
    "import numpy as np\n",
    "\n",
    "\n",
    "py_rand_list = np.random.randint(0, 255, size=2**20, dtype=np.uint8)\n",
    "\n",
    "naive_python_seconds = timeit(lambda: py_crc32(py_rand_list), number=10)/10\n",
    "\n",
    "print(f\"Naive Python runtime (ms): {naive_python_seconds*100}\")"
   ]
  },
  {
   "cell_type": "markdown",
   "metadata": {},
   "source": [
    "That's pretty slow in fact this means that: "
   ]
  },
  {
   "cell_type": "code",
   "execution_count": 10,
   "metadata": {},
   "outputs": [
    {
     "name": "stdout",
     "output_type": "stream",
     "text": [
      "Speedup over Python: Mojo is 18.026515816235925 faster\n"
     ]
    }
   ],
   "source": [
    "print(\"Speedup over Python: Mojo is\", (naive_python_seconds*100/improved_time), \"faster\")"
   ]
  },
  {
   "cell_type": "markdown",
   "metadata": {},
   "source": [
    "So that's a nice little speedup we can get by writing essentially the same logic in Mojo. \n",
    "\n",
    "Now this is a bit unfair. If you actually wrote the this function in Python for anything other than educational purposes, then you are using Python wrong, but I'll get back to how you would actually do it later. \n",
    "\n",
    "\n",
    "\n",
    "## Adding a table\n",
    "\n",
    "Now, the majority of CRC-32 implementations you see will usually use a table. \n",
    "\n",
    "This is called the [Sarwate algorithm](https://en.wikipedia.org/wiki/Computation_of_cyclic_redundancy_checks#Sarwate_algorithm_(single_lookup_table)) and exploits the fact that as we are operating on data one byte at a time, there are only 256 unique values that the calculation in the inner loop of the algorithm can take. This is a small enough table (1024 bytes for 256 unsigned 32-bit integers) that it can easily be kept in the L1 cache during computation. \n",
    "\n",
    "Let's try it out to see how much faster this get's us.\n",
    "\n",
    "First, we need to pre-compute the table: "
   ]
  },
  {
   "cell_type": "code",
   "execution_count": 11,
   "metadata": {},
   "outputs": [],
   "source": [
    "\n",
    "fn fill_table() -> List[UInt32]:\n",
    "    var table = List[UInt32](capacity=256)\n",
    "    for i in range(256):\n",
    "\n",
    "        var key = UInt8(i)\n",
    "        var crc32 = key.cast[DType.uint32]()\n",
    "        for i in range(8):\n",
    "            if crc32 & 1 != 0:\n",
    "                crc32 = (crc32 >> 1) ^ 0xedb88320\n",
    "            else:\n",
    "                crc32 = crc32 >> 1\n",
    "\n",
    "        table[i] = crc32\n",
    "    return table\n",
    "\n",
    "alias little_endian_table = fill_table()\n"
   ]
  },
  {
   "cell_type": "markdown",
   "metadata": {},
   "source": [
    "We've now effectively amortized the cost of the inner loop and replaced it with a table lookup which should in principle be faster. \n",
    "\n",
    "Our CRC-32 algorithm now take this form: "
   ]
  },
  {
   "cell_type": "code",
   "execution_count": 12,
   "metadata": {},
   "outputs": [
    {
     "name": "stdout",
     "output_type": "stream",
     "text": [
      "0x382aa34e\n",
      "0x382aa34e\n"
     ]
    }
   ],
   "source": [
    "fn CRC32_table(data: List[UInt8], table: List[UInt32]) -> UInt32:\n",
    "    var crc32: UInt32 = 0xffffffff\n",
    "    \n",
    "    for byte in data:\n",
    "        var index = (crc32 ^ byte[].cast[DType.uint32]()) & 0xff\n",
    "        crc32 = table[int(index)] ^ (crc32 >> 8)\n",
    "\n",
    "    return crc32^0xffffffff\n",
    "\n",
    "# Sanity check\n",
    "print(hex(CRC32(example_list, List[UInt32](1))))\n",
    "print(hex(CRC32_table(example_list, little_endian_table)))                                           "
   ]
  },
  {
   "cell_type": "markdown",
   "metadata": {},
   "source": [
    "Now we can test it out! "
   ]
  },
  {
   "cell_type": "code",
   "execution_count": 13,
   "metadata": {},
   "outputs": [
    {
     "name": "stdout",
     "output_type": "stream",
     "text": [
      "Function 1 runtime (ms): \t 8.5761109999999992\n",
      "Function 2 runtime (ms): \t 1.9543971584601614\n",
      "Speedup factor: \t\t 4.3881106574863127\n"
     ]
    }
   ],
   "source": [
    "_, _, speedup_table = bench[CRC32, CRC32_table, rand_list, little_endian_table]()"
   ]
  },
  {
   "cell_type": "markdown",
   "metadata": {},
   "source": [
    "So a speedup of around 4-5 times as fast as when we started. This is already a pretty good result, but can we do better? \n",
    "\n",
    "## Two byte table\n",
    "\n",
    "In principle, we could load the data as a 16-bit integer at a time and use the same trick above to build a table. However, such a table would have 65536 entries, resulting in a 256 KB table, which is a lot bigger than the 48 KB of L1 cache on my machine. \n",
    "\n",
    "\n",
    "It turns out, we can still [do two bytes at a time](https://en.wikipedia.org/wiki/Computation_of_cyclic_redundancy_checks#Byte-Slicing_using_multiple_tables).  \n",
    "\n",
    "Following the [description given by Kareem Omar](https://github.com/komrad36/CRC?tab=readme-ov-file#option-6-1-byte-tabular), we realize that if we have two successive bytes in our message, let's call them `X` and `Y`: \n",
    "\n",
    "```\n",
    "X = xxxxxxxx\n",
    "Y = yyyyyyyy\n",
    "```\n",
    "\n",
    "if we pad these messages with zeroes\n",
    "\n",
    "```\n",
    "Xz = xxxxxxxx00000000\n",
    "zY = 00000000yyyyyyyy\n",
    "```\n",
    "\n",
    "then \n",
    "\n",
    "```\n",
    "Xz ^ zY = xxxxxxxxyyyyyyyy = M\n",
    "```\n",
    "\n",
    "What this means is that if we have a CRC algorithm that works on a 16-bit message called M then: \n",
    "\n",
    "```\n",
    "CRC(M) = CRC(Xz ^ zY) = CRC(Xz) ^ CRC(zY) \n",
    "```\n",
    "\n",
    "For the operation on `Y`, leading zeros don't affect the calculation, so we can just use the 8-bit CRC algorithm we have developed above: \n",
    "\n",
    "```\n",
    "CRC(zY) = CRC(Y)\n",
    "```\n",
    "\n",
    "The same does not hold for trailing zeroes. However, as `Xz` will always be of the form `xxxxxxxx00000000` and there can only be 256 unique values for `Xz`, we can build a new table with 256 entries to look up these values. We can build two separate 256 entry tables, or we can just build one 512 entry table, \n",
    "\n",
    "\n",
    "So let's construct this new table: "
   ]
  },
  {
   "cell_type": "code",
   "execution_count": 14,
   "metadata": {},
   "outputs": [],
   "source": [
    "fn fill_table_2_byte() -> List[UInt32]:\n",
    "\n",
    "    var table = List[UInt32](capacity=512)\n",
    "    table.size = 512\n",
    "    table.resize(256*2, 0)\n",
    "\n",
    "    for i in range(256):\n",
    "\n",
    "        var key = UInt8(i)\n",
    "        var crc32 = key.cast[DType.uint32]()\n",
    "        for i in range(8):\n",
    "            if crc32 & 1 != 0:\n",
    "                crc32 = (crc32 >> 1) ^ 0xedb88320\n",
    "            else:\n",
    "                crc32 = crc32 >> 1\n",
    "\n",
    "        table[i] = crc32\n",
    "\n",
    "    for i in range(256, 512):\n",
    "        var crc32 = table[i-256]\n",
    "        table[i] = (crc32 >> 8) ^ table[int(crc32.cast[DType.uint8]())]\n",
    "    return table\n",
    "\n",
    "var little_endian_table_2_byte = fill_table_2_byte()\n"
   ]
  },
  {
   "cell_type": "markdown",
   "metadata": {},
   "source": [
    "We have to now update our algorithm to do two table lookups instead of one. \n",
    "\n",
    "Additionally, we have to modify our algorithm to read the data two bytes at a time. \n",
    "\n"
   ]
  },
  {
   "cell_type": "code",
   "execution_count": 15,
   "metadata": {},
   "outputs": [
    {
     "name": "stdout",
     "output_type": "stream",
     "text": [
      "0x382aa34e\n",
      "0x382aa34e\n"
     ]
    }
   ],
   "source": [
    "fn CRC32_table_2_byte(data: List[UInt8], table: List[UInt32]) -> UInt32:\n",
    "    var crc32: UInt32 = 0xffffffff\n",
    "\n",
    "    var length = len(data)//2\n",
    "    var extra = len(data) % 2\n",
    "\n",
    "    # Go through range in steps of 2\n",
    "    for i in range(start = 0, end = length * 2 , step = 2):\n",
    "        \n",
    "        # Concatenate the two bytes\n",
    "        var val: UInt32 = ((data[i + 1].cast[DType.uint32]() << 8) | data[i].cast[DType.uint32]())\n",
    "        # Creat index, and look up values in table\n",
    "        var index = crc32 ^ val\n",
    "        crc32 =  table[int((index >> 8).cast[DType.uint8]())] ^ table[256 + int(index.cast[DType.uint8]())] ^ (crc32 >> 16)\n",
    "\n",
    "    # Tail call to calculate final byte in case message not divisable by 2\n",
    "    for i in range(2*length, 2*length + extra ):\n",
    "        var index = (crc32 ^ data[i].cast[DType.uint32]()) & 0xff\n",
    "        crc32 = table[int(index)] ^ (crc32 >> 8)\n",
    "\n",
    "\n",
    "    return crc32^0xffffffff\n",
    "\n",
    "# Sanity check\n",
    "print(hex(CRC32(example_list, List[UInt32](1))))\n",
    "print(hex(CRC32_table_2_byte(example_list, little_endian_table_2_byte)))"
   ]
  },
  {
   "cell_type": "markdown",
   "metadata": {},
   "source": [
    "So let's see if this speeds things up: "
   ]
  },
  {
   "cell_type": "code",
   "execution_count": 16,
   "metadata": {},
   "outputs": [
    {
     "name": "stdout",
     "output_type": "stream",
     "text": [
      "Function 1 runtime (ms): \t 9.4386268461538467\n",
      "Function 2 runtime (ms): \t 1.2856673344847436\n",
      "Speedup factor: \t\t 7.3414223049670637\n"
     ]
    }
   ],
   "source": [
    "alias a_little_endian_table_2_byte = fill_table_2_byte()\n",
    "\n",
    "\n",
    "_, _, speedup_table_2 = bench[CRC32, CRC32_table_2_byte, rand_list, a_little_endian_table_2_byte]()"
   ]
  },
  {
   "cell_type": "markdown",
   "metadata": {},
   "source": [
    "Nice, now we are at an around 7x speedup to where we began.\n",
    "\n",
    "But can we go further? There's nothing in the above that forces us to only use two bytes at a time. \n",
    "\n",
    "\n",
    "\n",
    "## 4-bytes tabular\n",
    "\n",
    "Nothing stops us from doing 4 bytes, i.e. 32-bits at a time with similar logic to above. \n",
    "\n",
    "I'll quickly create a function that will fill an arbitrarily sized table: "
   ]
  },
  {
   "cell_type": "code",
   "execution_count": 17,
   "metadata": {},
   "outputs": [],
   "source": [
    "fn fill_table_n_byte[n: Int]() -> List[UInt32]:\n",
    "    var table = List[UInt32](capacity=256 * n)\n",
    "    table.size = 256*n\n",
    "\n",
    "    for i in range(256 * n):\n",
    "        if i < 256:\n",
    "            var key = UInt8(i)\n",
    "            var crc32 = key.cast[DType.uint32]()\n",
    "            for _ in range(8):\n",
    "                if crc32 & 1 != 0:\n",
    "                    crc32 = (crc32 >> 1) ^ 0xEDB88320\n",
    "                else:\n",
    "                    crc32 = crc32 >> 1\n",
    "\n",
    "            table[i] = crc32\n",
    "        else:\n",
    "            var crc32 = table[i - 256]\n",
    "            var index = int(crc32.cast[DType.uint8]())\n",
    "            table[i] = (crc32 >> 8) ^ table[index]\n",
    "\n",
    "    return table\n",
    "\n",
    "var little_endian_table_4_byte = fill_table_n_byte[4]()"
   ]
  },
  {
   "cell_type": "markdown",
   "metadata": {},
   "source": [
    "Now to create the 4-byte function: "
   ]
  },
  {
   "cell_type": "code",
   "execution_count": 18,
   "metadata": {},
   "outputs": [
    {
     "name": "stdout",
     "output_type": "stream",
     "text": [
      "0x382aa34e\n",
      "0x382aa34e\n"
     ]
    }
   ],
   "source": [
    "fn CRC32_table_4_byte(data: List[UInt8], table: List[UInt32]) -> UInt32:\n",
    "    var crc32: UInt32 = 0xffffffff\n",
    "\n",
    "    var size = 4\n",
    "\n",
    "    var length = len(data)//size\n",
    "    var extra = len(data) % size\n",
    "\n",
    "    for i in range(start = 0, end = length*size, step = size):\n",
    "        \n",
    "        var val: UInt32 =  (data[i + 3].cast[DType.uint32]() << 24) | (data[i + 2].cast[DType.uint32]() << 16) | (data[i + 1].cast[DType.uint32]() << 8) | data[i].cast[DType.uint32]()\n",
    "        var index = crc32 ^ val.cast[DType.uint32]()\n",
    "        crc32 = table[0*256 + int((index >> 24).cast[DType.uint8]())] ^\n",
    "                table[1*256 + int((index >> 16).cast[DType.uint8]())] ^\n",
    "                table[2*256 + int((index >> 8).cast[DType.uint8]())] ^\n",
    "                table[3*256 + int((index >> 0).cast[DType.uint8]())] \n",
    "    \n",
    "    for i in range(size*length, size*length + extra ):\n",
    "        var index = (crc32 ^ data[i].cast[DType.uint32]()) & 0xff\n",
    "        crc32 = table[int(index)] ^ (crc32 >> 8)\n",
    "\n",
    "\n",
    "    return crc32^0xffffffff\n",
    "\n",
    "# Sanity check\n",
    "print(hex(CRC32(example_list, List[UInt32](1))))\n",
    "print(hex(CRC32_table_4_byte(example_list, little_endian_table_4_byte)))"
   ]
  },
  {
   "cell_type": "markdown",
   "metadata": {},
   "source": [
    "And presto, it still works!\n",
    "\n",
    "Let's see how much faster we are now? \n",
    "\n"
   ]
  },
  {
   "cell_type": "code",
   "execution_count": 19,
   "metadata": {},
   "outputs": [
    {
     "name": "stdout",
     "output_type": "stream",
     "text": [
      "Function 1 runtime (ms): \t 9.9107345799999997\n",
      "Function 2 runtime (ms): \t 0.69239487\n",
      "Speedup factor: \t\t 14.313703075240866\n"
     ]
    }
   ],
   "source": [
    "alias a_little_endian_table_4_byte = fill_table_n_byte[4]()\n",
    "\n",
    "\n",
    "_, _, _ = bench[CRC32, CRC32_table_4_byte, rand_list, a_little_endian_table_4_byte]()"
   ]
  },
  {
   "cell_type": "markdown",
   "metadata": {},
   "source": [
    "A 14 times speedup over where we started!\n",
    "\n",
    "\n",
    "But why stop there? "
   ]
  },
  {
   "cell_type": "markdown",
   "metadata": {},
   "source": [
    "\n",
    "\n",
    "## n-bytes implementation\n",
    "\n",
    "We can in principle explicitly write out version that take 8, 16 or however many bytes at time. This get's a little long-winded, so I'll write some generic functions to make functions of arbitrary size. \n"
   ]
  },
  {
   "cell_type": "code",
   "execution_count": 20,
   "metadata": {},
   "outputs": [],
   "source": [
    "fn CRC32_table_n_byte_compact[size: Int](data: List[UInt8], table: List[UInt32]) -> UInt32:\n",
    "    var crc32: UInt32 = 0xFFFFFFFF\n",
    "\n",
    "    alias step_size = 4 # Always smashing 4 bytes into an UInt32\n",
    "    alias units = size // step_size\n",
    "\n",
    "    var length = len(data) // size\n",
    "    var extra = len(data) % size\n",
    "\n",
    "    var n = 0\n",
    "\n",
    "    for i in range(start=0, end=length * size, step=size):\n",
    "        @parameter\n",
    "        for j in range(units):\n",
    "            var vals = (\n",
    "                (data[i + j * step_size + 3].cast[DType.uint32]() << 24)\n",
    "                | (data[i + j * step_size + 2].cast[DType.uint32]() << 16)\n",
    "                | (data[i + j * step_size + 1].cast[DType.uint32]() << 8)\n",
    "                | (data[i + j * step_size + 0].cast[DType.uint32]() << 0)\n",
    "            )\n",
    "\n",
    "            if j == 0:\n",
    "                vals = vals ^ crc32\n",
    "                crc32 = 0 \n",
    "        \n",
    "\n",
    "            n = size - j * step_size\n",
    "            crc32 = (\n",
    "                table[(n - 4) * 256 + int((vals >> 24).cast[DType.uint8]())]\n",
    "                ^ table[(n - 3) * 256 + int((vals >> 16).cast[DType.uint8]())]\n",
    "                ^ table[(n - 2) * 256 + int((vals >> 8).cast[DType.uint8]())]\n",
    "                ^ table[(n - 1) * 256 + int((vals >> 0).cast[DType.uint8]())]     \n",
    "            ) ^ crc32\n",
    "            \n",
    "\n",
    "    for i in range(size * length, size * length + extra):\n",
    "        var index = (crc32 ^ data[i].cast[DType.uint32]()) & 0xFF\n",
    "        crc32 = table[int(index)] ^ (crc32 >> 8)\n",
    "\n",
    "    return crc32 ^ 0xFFFFFFFF"
   ]
  },
  {
   "cell_type": "markdown",
   "metadata": {},
   "source": [
    "Let's do a quick sanity check to see if this works: "
   ]
  },
  {
   "cell_type": "code",
   "execution_count": 21,
   "metadata": {},
   "outputs": [
    {
     "name": "stdout",
     "output_type": "stream",
     "text": [
      "0x382aa34e\n",
      "0x382aa34e\n"
     ]
    }
   ],
   "source": [
    "print(hex(CRC32(example_list, List[UInt32](1))))\n",
    "print(hex(CRC32_table_n_byte_compact[4](example_list, little_endian_table_4_byte)))\n"
   ]
  },
  {
   "cell_type": "markdown",
   "metadata": {},
   "source": [
    "## How big can we go? \n",
    "\n",
    "Let's try and increase the table size as far as we can. We'll go up in powers of two, and see how far we can go."
   ]
  },
  {
   "cell_type": "code",
   "execution_count": 22,
   "metadata": {},
   "outputs": [
    {
     "name": "stdout",
     "output_type": "stream",
     "text": [
      "Function 1 runtime (ms): \t 9.5889589700000002\n",
      "Function 2 runtime (ms): \t 0.69029748700000004\n",
      "Speedup factor: \t\t 13.891052988868841\n"
     ]
    }
   ],
   "source": [
    "alias a_little_endian_table_4_byte = fill_table_n_byte[4]()\n",
    "\n",
    "_, _, speedup_table_4 = bench[CRC32, CRC32_table_n_byte_compact[4], rand_list, a_little_endian_table_4_byte]()"
   ]
  },
  {
   "cell_type": "code",
   "execution_count": 23,
   "metadata": {},
   "outputs": [
    {
     "name": "stdout",
     "output_type": "stream",
     "text": [
      "Function 1 runtime (ms): \t 10.002244664999999\n",
      "Function 2 runtime (ms): \t 0.48423754050000001\n",
      "Speedup factor: \t\t 20.655657251753283\n"
     ]
    }
   ],
   "source": [
    "\n",
    "_, _, speedup_table_8 = bench[CRC32, CRC32_table_n_byte_compact[8], rand_list, fill_table_n_byte[8]()]()"
   ]
  },
  {
   "cell_type": "code",
   "execution_count": 24,
   "metadata": {},
   "outputs": [
    {
     "name": "stdout",
     "output_type": "stream",
     "text": [
      "Function 1 runtime (ms): \t 9.065976534999999\n",
      "Function 2 runtime (ms): \t 0.3490761703607127\n",
      "Speedup factor: \t\t 25.971341800936472\n"
     ]
    }
   ],
   "source": [
    "_, _, speedup_table_16 = bench[CRC32, CRC32_table_n_byte_compact[16], rand_list, fill_table_n_byte[16]()]()"
   ]
  },
  {
   "cell_type": "code",
   "execution_count": 25,
   "metadata": {},
   "outputs": [
    {
     "name": "stdout",
     "output_type": "stream",
     "text": [
      "Function 1 runtime (ms): \t 9.6776499699999992\n",
      "Function 2 runtime (ms): \t 0.22259112022425251\n",
      "Speedup factor: \t\t 43.477250845631744\n"
     ]
    }
   ],
   "source": [
    "_, _, speedup_table_32 = bench[CRC32, CRC32_table_n_byte_compact[32], rand_list, fill_table_n_byte[32]()]()"
   ]
  },
  {
   "cell_type": "code",
   "execution_count": 26,
   "metadata": {},
   "outputs": [
    {
     "name": "stdout",
     "output_type": "stream",
     "text": [
      "Function 1 runtime (ms): \t 9.1518207500000006\n",
      "Function 2 runtime (ms): \t 0.29884062938339201\n",
      "Speedup factor: \t\t 30.6244193397774\n"
     ]
    }
   ],
   "source": [
    "_, _, speedup_table_64 = bench[CRC32, CRC32_table_n_byte_compact[64], rand_list, fill_table_n_byte[64]()]()"
   ]
  },
  {
   "cell_type": "code",
   "execution_count": 27,
   "metadata": {},
   "outputs": [
    {
     "name": "stdout",
     "output_type": "stream",
     "text": [
      "Function 1 runtime (ms): \t 9.4991627550000004\n",
      "Function 2 runtime (ms): \t 0.53072807599999994\n",
      "Speedup factor: \t\t 17.898361109126629\n"
     ]
    }
   ],
   "source": [
    "_, _, speedup_table_128 = bench[CRC32, CRC32_table_n_byte_compact[128], rand_list, fill_table_n_byte[128]()]()"
   ]
  },
  {
   "cell_type": "markdown",
   "metadata": {},
   "source": [
    "And there it is. At least on my machine, 32 bytes is the limit, maxing out at a roughly 40 times speedup over the naive implementation. After that we start to see a performance decrease.\n",
    "\n",
    "Let's plot this to see the trend:"
   ]
  },
  {
   "cell_type": "code",
   "execution_count": 32,
   "metadata": {},
   "outputs": [
    {
     "data": {
      "image/png": "[encoded data removed]"
     },
     "metadata": {},
     "output_type": "display_data"
    },
    {
     "name": "stdout",
     "output_type": "stream",
     "text": [
      "\n"
     ]
    }
   ],
   "source": [
    "#| code-fold: true\n",
    "from python import Python\n",
    "var np = Python.import_module(\"numpy\")\n",
    "var plt = Python.import_module(\"matplotlib.pyplot\")\n",
    "var logging = Python.import_module(\"logging\")\n",
    "logging.getLogger('matplotlib.font_manager').disabled = True\n",
    "\n",
    "plt.plot([1, 2, 4, 8, 16, 32, 64, 128], [speedup_table, speedup_table_2, speedup_table_4, speedup_table_8, speedup_table_16, speedup_table_32, speedup_table_64, speedup_table_128])\n",
    "plt.title('CRC32 speedup over naive implementation')\n",
    "plt.xlabel('Table size')\n",
    "plt.ylabel('Speedup')\n",
    "\n",
    "plt.xscale(\"log\", base=2)\n",
    "plt.xkcd()\n",
    "plt.show()"
   ]
  },
  {
   "cell_type": "markdown",
   "metadata": {},
   "source": [
    "As you can see from the above, with a 32-byte table we hit our maximum speedup of around 40 times as fast as the naive implementation. After that, the performance falls off a cliff. \n",
    "\n",
    "Why would this be? If you read the blog post I linked above you already know the answer: Cache. \n",
    "\n",
    "  Option           | num_tables       | elements | tbl size\n",
    "-------------------|------------------|----------|-----------\n",
    "   1-byte tabular  | num_tables = 1   | 256      | 1  KB\n",
    "   2-byte tabular  | num_tables = 2   | 512      | 2  KB\n",
    "   4-byte tabular  | num_tables = 4   | 1024     | 4  KB\n",
    "   8-byte tabular  | num_tables = 8   | 2048     | 8  KB\n",
    "  16-byte tabular  | num_tables = 16  | 4096     | 16 KB\n",
    "  32-byte tabular  | num_tables = 32  | 8192     | 32 KB\n",
    "  64-byte tabular  | num_tables = 64  | 16384    | 64 KB\n",
    "\n",
    "In Kareem Omar's [original post](https://github.com/komrad36/CRC) the recommendation is to not go above a 16-byte table, as this will take up approximately half of the standard 32 KB of L1 cache on most computers. However, since this post was written in 2019, L1 cache sizes have increased a bit, and on my machine with a 48 KB L1 cache the 32-byte table performs best, but it's clear that once you go past that you run into cache issues. \n",
    "\n",
    "This is actually a place then where some compile-time metaprogramming might help: depending on the size of your L1 cache, you might want to compile your application with a 16-byte or a 32-byte table. Or if you want to future proof your application for the (presumable not so distant) future case where the CPUs have at least 128 KB of L1 cache, then you can even add the option of a 64-byte table. \n",
    "\n",
    "At some point Mojo had an autotune functionality that would have been able to do this, but it was removed and we'll have to wait for it to be added back.  \n",
    "\n",
    "Now if you read Kareem's post, you might realize he went even further by calling some (hardware accelerated) intrinsic functions to go even faster. There is a caveat here in that in that case, the polynomial used is baked into the silicone, and the variation for which this works is called `CRC-32C` where the C stands for Castagnoli, and importantly this is not the variation that is used for PNG checksums, so I won't go further with this.    "
   ]
  },
  {
   "cell_type": "markdown",
   "metadata": {},
   "source": [
    "## A more realistic Python benchmark\n",
    "\n",
    "Taking our best result from above, we get:"
   ]
  },
  {
   "cell_type": "code",
   "execution_count": 29,
   "metadata": {},
   "outputs": [
    {
     "name": "stdout",
     "output_type": "stream",
     "text": [
      "Speedup over Python: Mojo is 556.3741906871564 faster\n"
     ]
    }
   ],
   "source": [
    "_, result_32_byte, _ = bench[CRC32, CRC32_table_n_byte_compact[32], rand_list, fill_table_n_byte[32]()](quiet = True)\n",
    "print(\"Speedup over Python: Mojo is\", (naive_python_seconds*100/result_32_byte), \"faster\")"
   ]
  },
  {
   "cell_type": "markdown",
   "metadata": {},
   "source": [
    "So an astounding 500 times speedup over pure Python. Now this is a completely unfair comparison, as I am comparing the naive Python implementation to the optimized Mojo one. \n",
    "\n",
    "Now as I hinted before, no-one in their right mind would write a CRC-32 check like I did above in Python.\n",
    "\n",
    "What one would really do is use zlib from Python’s standard library. In this case we get:"
   ]
  },
  {
   "cell_type": "code",
   "execution_count": 30,
   "metadata": {},
   "outputs": [
    {
     "name": "stdout",
     "output_type": "stream",
     "text": [
      "Realistic Python runtime (ms): 0.06717531400499865\n"
     ]
    }
   ],
   "source": [
    "%%python\n",
    "\n",
    "import zlib\n",
    "\n",
    "\n",
    "py_rand_list = np.random.randint(0, 255, size=2**20, dtype=np.uint8)\n",
    "\n",
    "realistic_python_seconds = timeit(lambda: zlib.crc32(py_rand_list), number=100)/100\n",
    "\n",
    "print(f\"Realistic Python runtime (ms): {realistic_python_seconds*100}\")"
   ]
  },
  {
   "cell_type": "code",
   "execution_count": 31,
   "metadata": {},
   "outputs": [
    {
     "name": "stdout",
     "output_type": "stream",
     "text": [
      "Python is: 3.291695363181048 faster than Mojo\n"
     ]
    }
   ],
   "source": [
    "print(\"Python is:\", result_32_byte/(realistic_python_seconds*100), \"faster than Mojo\")"
   ]
  },
  {
   "cell_type": "markdown",
   "metadata": {},
   "source": [
    "So when using Python as you realistically would, Python is actually still more than three times faster than our best effort so far!\n",
    "\n",
    "Of course, the counterpoint to this is that the zlib implementation is done in C, not Python, so we are effectively comparing Mojo to C at this point. \n",
    "\n",
    "## The last bit of performance\n",
    "\n",
    "The above begs the question however, why is the zlib version still faster than Mojo? \n",
    "\n",
    "What kind of black magic is happening in zlib? \n",
    "\n",
    "Well, this lead me down a rabbit hole and I ended up reading a pretty informative whitepaper by Andrew Kadatch and Bob Jenkins titled [*Everything We Know About CRC But Afraid To Forget*](https://github.com/madler/zlib/blob/develop/doc/crc-doc.1.0.pdf). Now, I can't find where this was officially published, and the only record of this seems to be in some guy's github repo. I'm kidding a little on the last point, it's in the zlib repo which is maintained by [Mark Adler](https://en.wikipedia.org/wiki/Mark_Adler).\n",
    "\n",
    "The zlib CRC32 implementation is written in C that has been optimized to within an inch of it's life, and has so many `#ifdef` statement in there that it's hard to know which way is up. \n",
    "\n",
    "In any case, there is a commit by Mark Adler from 2018 that's titled [*Speed up software CRC-32 computation by a factor of 1.5 to 3.*](https://github.com/madler/zlib/commit/f8719f5ae5acdc31d3794ddfea8ac963359de41e). Well, that's about the amount of performance I am missing, so I guess that's where I need to start looking. The commit message states: \n",
    "\n",
    "> Use the interleaved method of Kadatch and Jenkins in order to make\n",
    "use of pipelined instructions through multiple ALUs in a single\n",
    "core. This also speeds up and simplifies the combination of CRCs,\n",
    "and updates the functions to pre-calculate and use an operator for\n",
    "CRC combination.\n",
    "\n",
    "It's a pretty large commit and reads about as easily as hieroglyphics, so it might take me a moment to digest what's going on there. \n",
    "\n",
    "\n",
    "## Impact on PNG reading\n",
    "\n",
    "The whole thing that kicked this work off was reading PNG image in Mojo. So how much faster does this improved CRC32 check make reading PNGs? \n",
    "Not much it seems. Reading a `3008 x 1960` pixel PNG image with [Mimage](https://github.com/fnands/mimage) is now about 3.5% faster. \n",
    "\n",
    "I suspect the majority of the time reading PNGs is either spent reading from disk or decompressing the actual data. But hey, faster is faster. \n",
    "\n",
    "I'm wondering if/when Mojo will get it's equivalent of zlib, and what shape that might take. \n",
    "\n"
   ]
  }
 ],
 "metadata": {
  "kernelspec": {
   "display_name": "MAX (Conda ENV Mojo kernel)",
   "language": "mojo",
   "name": "mojo"
  },
  "language_info": {
   "codemirror_mode": {
    "name": "mojo"
   },
   "file_extension": ".mojo",
   "mimetype": "text/x-mojo",
   "name": "mojo"
  }
 },
 "nbformat": 4,
 "nbformat_minor": 4
}
