{
 "cells": [
  {
   "cell_type": "markdown",
   "metadata": {},
   "source": [
    "---\n",
    "layout: post\n",
    "title: CRC calculations and compile time metaprogramming in Mojo\n",
    "categories: [mojo]\n",
    "date: \"2024-05-99\"\n",
    "author: \"Ferdinand Schenck\"\n",
    "draft: true\n",
    "description: . \n",
    "---"
   ]
  },
  {
   "cell_type": "markdown",
   "metadata": {},
   "source": [
    "In my [last post](https://fnands.com/blog/2024/mojo-png-parsing/) on parsing PNG images in I very briefly mentioned cyclic redundancy checks, and posted a rather cryptic looking function which I claimed was a bit inefficient. \n",
    "\n",
    "In this post I want to follow up on that a bit, and delve into the compile time metaprogramming side of Mojo to see how we can speed up these calculations.   \n",
    "\n",
    "But first, let's go through a bit of background so we know what we're dealing with. \n",
    "\n",
    "## Cyclic redundancy checks\n",
    "\n",
    "CRCs are error detecting codes that are often used to detect corruption of data in digital files, an example of which is PNG files. In the case of PNGs for example the CRC32 is calculated for the data of each chunk and appended to the end of the chunk, so that the person reading the file can verify whether the data they read was the same as the data that was written.  \n",
    "\n",
    "A CRC check technically does \"long division in the ring of polynomials of binary coefficients ($\\Bbb{F}_2[x]$)\" 😳.   \n",
    "\n",
    "It's not as complicated as it sounds. I found the [Wikipedia article on Polynomial long division](https://en.wikipedia.org/wiki/Polynomial_long_division) to be helpful, and if you want an in depth explanation then\n",
    "[this post](https://github.com/komrad36/CRC) by [Kareem Omar](https://github.com/komrad36) does a really great job of explaining both the concept and implementation considerations. \n",
    "\n",
    "But what you need to know is that XOR is equivalent to polynomial long division (over a finite field) for binary numbers, and XOR is a very efficient operation to calculate in hardware. \n",
    "\n",
    "The simplest example of a cyclic redundancy check is the [parity bit](https://en.wikipedia.org/wiki/Parity_bit), AKA CRC-1. The parity bit is used to detect whether an error has occurred while transmitting a byte-long message (it can be used for longer messages, but probably shouldn't be). \n",
    "\n",
    "In the formalism of CRC checks, it can be calculated by successively applying XOR between your message and the relevant *generator polynomial*. For larger cases the choice of generator polynomial can get quite involved, but for the CRC-1 case it is $x + 1$, expressed in binary as 11. Notice that the Generator polynomial is always 1 order (or has one more bit) than the CRC. The way it is applied is by bitshifting \n",
    "\n",
    "```\n",
    "1+0+0+1 (mod 2) = 0\n",
    "1+0+1+1 (mod 2) = 1\n",
    "\n",
    "1001/1100 = 0101\n",
    "0101/0110 = 0011\n",
    "0011/0011 = 0000\n",
    "\n",
    "1011/1100 = 0111\n",
    "0111/0110 = 0001\n",
    "```\n"
   ]
  },
  {
   "cell_type": "code",
   "execution_count": null,
   "metadata": {},
   "outputs": [],
   "source": [
    "\n"
   ]
  },
  {
   "cell_type": "code",
   "execution_count": 1,
   "metadata": {},
   "outputs": [],
   "source": [
    "from math.bit import bitreverse\n",
    "import benchmark\n",
    "\n",
    "fn CRC32(owned data: List[SIMD[DType.uint8, 1]]) -> SIMD[DType.uint32, 1]:\n",
    "    var crc32: UInt32 = 0xffffffff\n",
    "    for byte in data:\n",
    "        crc32 = (bitreverse(byte[]).cast[DType.uint32]() << 24) ^ crc32\n",
    "        for i in range(8):\n",
    "            \n",
    "            if crc32 & 0x80000000 != 0:\n",
    "                crc32 = (crc32 << 1) ^ 0x04c11db7\n",
    "            else:\n",
    "                crc32 = crc32 << 1\n",
    "\n",
    "    return bitreverse(crc32^0xffffffff)"
   ]
  },
  {
   "cell_type": "code",
   "execution_count": 52,
   "metadata": {},
   "outputs": [],
   "source": [
    "fn CRC32_inv(owned data: List[SIMD[DType.uint8, 1]]) -> SIMD[DType.uint32, 1]:\n",
    "    var crc32: UInt32 = 0xffffffff\n",
    "    for byte in data:\n",
    "        crc32 = (byte[].cast[DType.uint32]() ) ^ crc32\n",
    "        for i in range(8):\n",
    "            \n",
    "            if crc32 & 1 != 0:\n",
    "                crc32 = (crc32 >> 1) ^ 0xedb88320\n",
    "            else:\n",
    "                crc32 = crc32 >> 1\n",
    "\n",
    "    return crc32^0xffffffff"
   ]
  },
  {
   "cell_type": "code",
   "execution_count": 53,
   "metadata": {},
   "outputs": [],
   "source": [
    "var test_list = List[SIMD[DType.uint8, 1]](5, 78, 138, 1, 54, 17)"
   ]
  },
  {
   "cell_type": "code",
   "execution_count": 54,
   "metadata": {},
   "outputs": [
    {
     "name": "stdout",
     "output_type": "stream",
     "text": [
      "0x66465bd7\n",
      "0x66465bd7\n"
     ]
    }
   ],
   "source": [
    "print(hex(CRC32(test_list)))\n",
    "print(hex(CRC32_inv(test_list)))"
   ]
  },
  {
   "cell_type": "code",
   "execution_count": 55,
   "metadata": {},
   "outputs": [],
   "source": [
    "\n",
    "from time import sleep\n",
    "\n",
    "\n"
   ]
  },
  {
   "cell_type": "code",
   "execution_count": 74,
   "metadata": {},
   "outputs": [
    {
     "name": "stdout",
     "output_type": "stream",
     "text": [
      "65536\n",
      "0.45944823721925132\n",
      "0.43115946646977071\n",
      "6.561092345043984\n"
     ]
    }
   ],
   "source": [
    "from random import rand\n",
    "\n",
    "fn run_32[data: List[SIMD[DType.uint8, 1]] ]():\n",
    "    var a =  CRC32(data)\n",
    "    benchmark.keep(a)\n",
    "\n",
    "\n",
    "fn run_32_inv[data: List[SIMD[DType.uint8, 1]] ]():\n",
    "    var a = CRC32_inv(data)\n",
    "    benchmark.keep(a)\n",
    "\n",
    "\n",
    "fn bench():\n",
    "\n",
    "    \n",
    "    alias fill_size = 2**16\n",
    "    alias g = UnsafePointer[SIMD[DType.uint8, 1]].alloc(fill_size)\n",
    "    rand[DType.uint8](ptr =  g, size = fill_size)\n",
    "\n",
    "\n",
    "    alias rand_list = List[SIMD[DType.uint8,1]](data = g, size = fill_size, capacity = fill_size)\n",
    "\n",
    "\n",
    "    print(len(rand_list))\n",
    "\n",
    "    var report = benchmark.run[run_32[rand_list]](max_runtime_secs=5\n",
    "    ).mean(benchmark.Unit.ms)\n",
    "    print(report)\n",
    "\n",
    "    var report_2 = benchmark.run[run_32_inv[rand_list]](max_runtime_secs=5\n",
    "    ).mean(benchmark.Unit.ms)\n",
    "    print(report_2)\n",
    "\n",
    "    print(100 * (report/report_2 -1))\n",
    "    #report.print_full()\n",
    "    #report_2.print_full()\n",
    "\n",
    "\n",
    "bench()"
   ]
  },
  {
   "cell_type": "code",
   "execution_count": null,
   "metadata": {},
   "outputs": [],
   "source": [
    "from random import rand"
   ]
  },
  {
   "cell_type": "code",
   "execution_count": null,
   "metadata": {},
   "outputs": [
    {
     "name": "stdout",
     "output_type": "stream",
     "text": [
      "0\n",
      "256\n"
     ]
    }
   ],
   "source": [
    "var ptr: UnsafePointer = 0\n",
    "var fill_size = 256\n",
    "var rand_list = List[SIMD[DType.uint8,1]](capacity = fill_size)\n",
    "print(len(rand_list))\n",
    "\n",
    "rand[DType.uint8](ptr =  rand_list.data, size = fill_size)\n",
    "\n",
    "\n",
    "rand_list.capacity = fill_size\n",
    "rand_list.size = fill_size\n",
    "\n",
    "print(len(rand_list))\n"
   ]
  },
  {
   "cell_type": "code",
   "execution_count": null,
   "metadata": {},
   "outputs": [
    {
     "name": "stdout",
     "output_type": "stream",
     "text": [
      "77\n"
     ]
    }
   ],
   "source": [
    "print(rand_list[-1])"
   ]
  },
  {
   "cell_type": "code",
   "execution_count": null,
   "metadata": {},
   "outputs": [],
   "source": []
  }
 ],
 "metadata": {
  "kernelspec": {
   "display_name": "Mojo",
   "language": "mojo",
   "name": "mojo-jupyter-kernel"
  },
  "language_info": {
   "codemirror_mode": {
    "name": "mojo"
   },
   "file_extension": ".mojo",
   "mimetype": "text/x-mojo",
   "name": "mojo"
  }
 },
 "nbformat": 4,
 "nbformat_minor": 2
}
